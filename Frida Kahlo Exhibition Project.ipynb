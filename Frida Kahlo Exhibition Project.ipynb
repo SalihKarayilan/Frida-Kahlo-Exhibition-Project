{
 "cells": [
  {
   "cell_type": "markdown",
   "id": "4aaf37fc-43b6-4e86-b58d-10c83804bec8",
   "metadata": {},
   "source": [
    "# Frida Kahlo Exhibition "
   ]
  },
  {
   "cell_type": "code",
   "execution_count": 18,
   "id": "93522a7e-b813-4599-ab37-51cafdb5ae71",
   "metadata": {},
   "outputs": [
    {
     "name": "stdout",
     "output_type": "stream",
     "text": [
      "[('The Two Fridas', 1939), ('My Dress Hangs Here', 1933), ('Tree of Hope', 1946), ('Self Portrait With Monkeys', 1940)]\n"
     ]
    }
   ],
   "source": [
    "paintings = [\"The Two Fridas\", \"My Dress Hangs Here\", \"Tree of Hope\", \"Self Portrait With Monkeys\"]\n",
    "#print(paintings)\n",
    "dates = [1939, 1933, 1946, 1940]\n",
    "#print(dates)\n",
    "paintings = list(zip(paintings,dates))\n",
    "print(paintings)\n"
   ]
  },
  {
   "cell_type": "code",
   "execution_count": 21,
   "id": "813166c2-910b-4979-b736-448d88c9d531",
   "metadata": {},
   "outputs": [
    {
     "name": "stdout",
     "output_type": "stream",
     "text": [
      "[('The Two Fridas', 1939), ('My Dress Hangs Here', 1933), ('Tree of Hope', 1946), ('Self Portrait With Monkeys', 1940), ['The Broken Column', 1944], ['The Broken Column', 1944], ['The Wounded Deer', 1946], ['Me and My Doll', 1937], ['The Wounded Deer', 1946], ['Me and My Doll', 1937]]\n"
     ]
    }
   ],
   "source": [
    "paintings.append([\"The Broken Column\", 1944])\n",
    "paintings.append([\"The Wounded Deer\", 1946])\n",
    "paintings.append([\"Me and My Doll\", 1937])\n",
    "print(paintings)"
   ]
  },
  {
   "cell_type": "code",
   "execution_count": 27,
   "id": "1ed6db52-3966-46bf-93f7-aac6d9cfed84",
   "metadata": {},
   "outputs": [
    {
     "name": "stdout",
     "output_type": "stream",
     "text": [
      "7\n"
     ]
    }
   ],
   "source": [
    "print(len(paintings))"
   ]
  },
  {
   "cell_type": "code",
   "execution_count": 29,
   "id": "54ea79fb-bd1a-4526-9457-859cb1550f6a",
   "metadata": {},
   "outputs": [
    {
     "name": "stdout",
     "output_type": "stream",
     "text": [
      "[1, 2, 3, 4, 5, 6, 7]\n"
     ]
    }
   ],
   "source": [
    "audio_tour_number = []\n",
    "for i in range(len(paintings)):\n",
    "    audio_tour_number.append(i+1)\n",
    "print(audio_tour_number)"
   ]
  },
  {
   "cell_type": "code",
   "execution_count": 31,
   "id": "7561691d-0988-4762-b04f-94a8f38104c7",
   "metadata": {},
   "outputs": [
    {
     "name": "stdout",
     "output_type": "stream",
     "text": [
      "[(1, ('The Two Fridas', 1939)), (2, ('My Dress Hangs Here', 1933)), (3, ('Tree of Hope', 1946)), (4, ('Self Portrait With Monkeys', 1940)), (5, ['The Broken Column', 1944]), (6, ['The Wounded Deer', 1946]), (7, ['Me and My Doll', 1937])]\n"
     ]
    }
   ],
   "source": [
    "master_list = list(zip(audio_tour_number,paintings))\n",
    "print(master_list)"
   ]
  }
 ],
 "metadata": {
  "kernelspec": {
   "display_name": "Python 3 (ipykernel)",
   "language": "python",
   "name": "python3"
  },
  "language_info": {
   "codemirror_mode": {
    "name": "ipython",
    "version": 3
   },
   "file_extension": ".py",
   "mimetype": "text/x-python",
   "name": "python",
   "nbconvert_exporter": "python",
   "pygments_lexer": "ipython3",
   "version": "3.11.7"
  }
 },
 "nbformat": 4,
 "nbformat_minor": 5
}
